{
 "cells": [
  {
   "cell_type": "code",
   "execution_count": 20,
   "metadata": {},
   "outputs": [],
   "source": [
    "from app import db\n",
    "from app.models import User,Post"
   ]
  },
  {
   "cell_type": "markdown",
   "metadata": {},
   "source": [
    "Create first user. You can always reset your commits with ` db.session.rollback() `\n"
   ]
  },
  {
   "cell_type": "code",
   "execution_count": 27,
   "metadata": {},
   "outputs": [],
   "source": [
    "u = User(username='Йван', email='jvan_banan@gmail.com')\n",
    "db.session.add(u)\n",
    "db.session.commit()"
   ]
  },
  {
   "cell_type": "markdown",
   "metadata": {},
   "source": [
    "Create another user"
   ]
  },
  {
   "cell_type": "code",
   "execution_count": 28,
   "metadata": {},
   "outputs": [],
   "source": [
    "u = User(username='Марічка', email='mary_dveri@gmail.com')"
   ]
  },
  {
   "cell_type": "code",
   "execution_count": 29,
   "metadata": {},
   "outputs": [],
   "source": [
    "db.session.add(u)\n",
    "db.session.commit()"
   ]
  },
  {
   "cell_type": "code",
   "execution_count": 30,
   "metadata": {
    "scrolled": true
   },
   "outputs": [
    {
     "data": {
      "text/plain": [
       "[<User Йван, <User Марічка]"
      ]
     },
     "execution_count": 30,
     "metadata": {},
     "output_type": "execute_result"
    }
   ],
   "source": [
    "users = User.query.all()\n",
    "users"
   ]
  },
  {
   "cell_type": "raw",
   "metadata": {
    "scrolled": false
   },
   "source": [
    "db.session.rollback()"
   ]
  },
  {
   "cell_type": "markdown",
   "metadata": {},
   "source": [
    "Add two more users"
   ]
  },
  {
   "cell_type": "code",
   "execution_count": 32,
   "metadata": {},
   "outputs": [],
   "source": [
    "u_1 = User(username='vodka_drinker', email='drink_its_good_for_you@gmail.com')\n",
    "u_2 = User(username='beer_drinker', email='beer_beer@gmail.com')\n",
    "db.session.add(u_1)\n",
    "db.session.add(u_2)\n",
    "db.session.commit()"
   ]
  },
  {
   "cell_type": "markdown",
   "metadata": {},
   "source": [
    "See the changes"
   ]
  },
  {
   "cell_type": "code",
   "execution_count": 35,
   "metadata": {},
   "outputs": [
    {
     "name": "stdout",
     "output_type": "stream",
     "text": [
      "1 Йван jvan_banan@gmail.com None\n",
      "2 Марічка mary_dveri@gmail.com None\n",
      "3 vodka_drinker drink_its_good_for_you@gmail.com None\n",
      "4 beer_drinker beer_beer@gmail.com None\n"
     ]
    }
   ],
   "source": [
    "users = User.query.all()\n",
    "for user in users:\n",
    "    print(user.id, user.username, user.email, user.password_hash)"
   ]
  },
  {
   "cell_type": "markdown",
   "metadata": {},
   "source": [
    "Add a message in the microblog"
   ]
  },
  {
   "cell_type": "code",
   "execution_count": 39,
   "metadata": {},
   "outputs": [],
   "source": [
    "# Get all posts written by user\n",
    "u = user.query.get(1)\n",
    "p = Post(body='Meiner erste Betrag hier!', author=u)\n",
    "db.session.add(p)\n",
    "db.session.commit()"
   ]
  },
  {
   "cell_type": "markdown",
   "metadata": {},
   "source": [
    "Get all posts written by user"
   ]
  },
  {
   "cell_type": "code",
   "execution_count": 41,
   "metadata": {},
   "outputs": [
    {
     "name": "stdout",
     "output_type": "stream",
     "text": [
      "<User Йван\n",
      "[Post Meiner erste Betrag hier!]\n"
     ]
    }
   ],
   "source": [
    "u = user.query.get(1)\n",
    "print(u)\n",
    "print(u.posts.all())"
   ]
  },
  {
   "cell_type": "markdown",
   "metadata": {},
   "source": [
    "Get all posts of user with no posts"
   ]
  },
  {
   "cell_type": "code",
   "execution_count": 43,
   "metadata": {},
   "outputs": [
    {
     "name": "stdout",
     "output_type": "stream",
     "text": [
      "3 drink_its_good_for_you@gmail.com vodka_drinker\n",
      "[]\n"
     ]
    }
   ],
   "source": [
    "u = user.query.get(3)\n",
    "print(u.id, u.email, u.username)\n",
    "print(u.posts.all())"
   ]
  },
  {
   "cell_type": "markdown",
   "metadata": {},
   "source": [
    "Create a post by user #3"
   ]
  },
  {
   "cell_type": "code",
   "execution_count": 46,
   "metadata": {},
   "outputs": [],
   "source": [
    "p = Post(body='Drink, it\\'s good for you! Give away your constraints!', author=user.query.get(3))\n",
    "db.session.add(p)\n",
    "db.session.commit()"
   ]
  },
  {
   "cell_type": "markdown",
   "metadata": {},
   "source": [
    "Check his posts again"
   ]
  },
  {
   "cell_type": "code",
   "execution_count": 47,
   "metadata": {},
   "outputs": [
    {
     "name": "stdout",
     "output_type": "stream",
     "text": [
      "vodka_drinker posted: [Post Drink, it's good for you!\n",
      " Give away your constraints!, Post Drink, it's good for you! Give away your constraints!]\n"
     ]
    }
   ],
   "source": [
    "u = user.query.get(3)\n",
    "print(f'{u.username} posted: {u.posts.all()}')"
   ]
  },
  {
   "cell_type": "markdown",
   "metadata": {},
   "source": [
    "Get the post author by his posts"
   ]
  },
  {
   "cell_type": "code",
   "execution_count": 51,
   "metadata": {
    "scrolled": true
   },
   "outputs": [
    {
     "name": "stdout",
     "output_type": "stream",
     "text": [
      "1 None Meiner erste Betrag hier!\n",
      "2 <User Йван Meiner erste Betrag hier!\n",
      "3 <User vodka_drinker Drink, it's good for you!\n",
      " Give away your constraints!\n",
      "4 <User vodka_drinker Drink, it's good for you! Give away your constraints!\n"
     ]
    }
   ],
   "source": [
    "posts = Post.query.all()\n",
    "for p in posts:\n",
    "    print(p.id, p.author, p.body)"
   ]
  },
  {
   "cell_type": "code",
   "execution_count": 73,
   "metadata": {},
   "outputs": [
    {
     "name": "stdout",
     "output_type": "stream",
     "text": [
      "        ____\n",
      "       /    \\ \n",
      "      | Stop |\n",
      "       \\____/\n",
      "         |\n",
      "         |\n",
      "         |\n",
      "         |\n"
     ]
    },
    {
     "ename": "AssertionError",
     "evalue": "",
     "output_type": "error",
     "traceback": [
      "\u001b[0;31m---------------------------------------------------------------------------\u001b[0m",
      "\u001b[0;31mAssertionError\u001b[0m                            Traceback (most recent call last)",
      "\u001b[0;32m<ipython-input-73-e1800c2844df>\u001b[0m in \u001b[0;36m<module>\u001b[0;34m\u001b[0m\n\u001b[1;32m      1\u001b[0m \u001b[0mprint\u001b[0m\u001b[0;34m(\u001b[0m\u001b[0;34m\"        ____\\n       /    \\ \\n      | Stop |\\n       \\____/\\n         |\\n         |\\n         |\\n         |\"\u001b[0m\u001b[0;34m)\u001b[0m\u001b[0;34m\u001b[0m\u001b[0m\n\u001b[1;32m      2\u001b[0m \u001b[0;34m\u001b[0m\u001b[0m\n\u001b[0;32m----> 3\u001b[0;31m \u001b[0;32massert\u001b[0m \u001b[0;32mFalse\u001b[0m\u001b[0;34m\u001b[0m\u001b[0m\n\u001b[0m",
      "\u001b[0;31mAssertionError\u001b[0m: "
     ]
    }
   ],
   "source": [
    "print(\"        ____\\n       /    \\ \\n      | Stop |\\n       \\____/\\n         |\\n         |\\n         |\\n         |\")\n",
    "\n",
    "assert False "
   ]
  },
  {
   "cell_type": "markdown",
   "metadata": {},
   "source": [
    "Delete all the users and posts"
   ]
  },
  {
   "cell_type": "code",
   "execution_count": 74,
   "metadata": {},
   "outputs": [],
   "source": [
    "users = User.query.all()\n",
    "posts = Post.query.all()\n",
    "\n",
    "for u in users:\n",
    "    db.session.delete(u)\n",
    "\n",
    "for p in posts:\n",
    "    db.session.delete(p)\n",
    "    \n",
    "db.session.commit()"
   ]
  },
  {
   "cell_type": "markdown",
   "metadata": {},
   "source": [
    "See the result"
   ]
  },
  {
   "cell_type": "code",
   "execution_count": 76,
   "metadata": {},
   "outputs": [
    {
     "data": {
      "text/plain": [
       "([], [])"
      ]
     },
     "execution_count": 76,
     "metadata": {},
     "output_type": "execute_result"
    }
   ],
   "source": [
    "User.query.all(), Post.query.all()"
   ]
  }
 ],
 "metadata": {
  "kernelspec": {
   "display_name": "f",
   "language": "python",
   "name": "f"
  },
  "language_info": {
   "codemirror_mode": {
    "name": "ipython",
    "version": 3
   },
   "file_extension": ".py",
   "mimetype": "text/x-python",
   "name": "python",
   "nbconvert_exporter": "python",
   "pygments_lexer": "ipython3",
   "version": "3.6.6"
  }
 },
 "nbformat": 4,
 "nbformat_minor": 2
}
