{
 "cells": [
  {
   "cell_type": "code",
   "execution_count": 5,
   "metadata": {},
   "outputs": [],
   "source": [
    "from werkzeug.security import generate_password_hash\n",
    "from werkzeug.security import check_password_hash"
   ]
  },
  {
   "cell_type": "code",
   "execution_count": 2,
   "metadata": {},
   "outputs": [],
   "source": [
    "hash = generate_password_hash('joj')"
   ]
  },
  {
   "cell_type": "code",
   "execution_count": 4,
   "metadata": {},
   "outputs": [
    {
     "name": "stdout",
     "output_type": "stream",
     "text": [
      "pbkdf2:sha256:50000$kziaCtOI$e8c967619e1fae8643ad7b5a48339dd292c6fdf0314b773848c8bcc7074501ca\n",
      "93\n"
     ]
    }
   ],
   "source": [
    "print(hash)\n",
    "print(len(hash))"
   ]
  },
  {
   "cell_type": "code",
   "execution_count": null,
   "metadata": {},
   "outputs": [],
   "source": [
    "check_password_h"
   ]
  }
 ],
 "metadata": {
  "kernelspec": {
   "display_name": "f",
   "language": "python",
   "name": "f"
  },
  "language_info": {
   "codemirror_mode": {
    "name": "ipython",
    "version": 3
   },
   "file_extension": ".py",
   "mimetype": "text/x-python",
   "name": "python",
   "nbconvert_exporter": "python",
   "pygments_lexer": "ipython3",
   "version": "3.6.6"
  }
 },
 "nbformat": 4,
 "nbformat_minor": 2
}
